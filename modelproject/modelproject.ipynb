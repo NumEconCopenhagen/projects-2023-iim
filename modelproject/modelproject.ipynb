{
 "cells": [
  {
   "attachments": {},
   "cell_type": "markdown",
   "metadata": {},
   "source": [
    "# Solving the Cournot model"
   ]
  },
  {
   "attachments": {},
   "cell_type": "markdown",
   "metadata": {},
   "source": [
    "> **Note the following:** \n",
    "> 1. This is *not* meant to be an example of an actual **model analysis project**, just an example of how to structure such a project.\n",
    "> 1. Remember the general advice on structuring and commenting your code\n",
    "> 1. The `modelproject.py` file includes a function which could be used multiple times in this notebook."
   ]
  },
  {
   "cell_type": "markdown",
   "metadata": {},
   "source": [
    "Imports and set magics:"
   ]
  },
  {
   "cell_type": "code",
   "execution_count": 4,
   "metadata": {},
   "outputs": [
    {
     "name": "stdout",
     "output_type": "stream",
     "text": [
      "The autoreload extension is already loaded. To reload it, use:\n",
      "  %reload_ext autoreload\n"
     ]
    }
   ],
   "source": [
    "import numpy as np\n",
    "from scipy import optimize\n",
    "import sympy as sm\n",
    "from sympy import *\n",
    "\n",
    "# autoreload modules when code is run\n",
    "%load_ext autoreload\n",
    "%autoreload 2\n",
    "\n",
    "# local modules\n",
    "import modelproject\n",
    "\n",
    "from modelproject import modelprojectClass"
   ]
  },
  {
   "attachments": {},
   "cell_type": "markdown",
   "metadata": {},
   "source": [
    "# Model"
   ]
  },
  {
   "attachments": {},
   "cell_type": "markdown",
   "metadata": {},
   "source": [
    "In this project we are examing the Cournot competition model which is a game model describing quantity competition in an oligopolistic market. The Nash equilibrium in a Cournot model with two completely homogeneous players is given by x1 = x2. Under Cournot competition, total market output is strictly greater than under monopoly. In a Cournot model is as a starting point in equilibrium inefficient. In a Cournot equilibrium, then N = 1 corresponds to monopoly and N $->$ $\\infty$  corresponding to perfect competition.\n",
    "\n",
    "The set up is the standard Cournot model where we work with a linear demand curve\n",
    "\n",
    "$p_i(q_i, q_j) = 1 - aq_i - bq_j$\n",
    "\n",
    "and costs\n",
    "\n",
    "$c_i(q) =c_i q$\n",
    "\n",
    "Where $q_i$ denotes firm i's output on the market\n",
    "\n",
    "Firm i´s profit is written as:\n",
    "\n",
    "$\\pi(q_i,q_j) = (1 - aq_i - bq_j) - cq_i$ "
   ]
  },
  {
   "attachments": {},
   "cell_type": "markdown",
   "metadata": {},
   "source": [
    "**Write out the model in equations here.*** \n",
    "\n",
    "Make sure you explain well the purpose of the model and comment so that other students who may not have seen it before can follow.  "
   ]
  },
  {
   "attachments": {},
   "cell_type": "markdown",
   "metadata": {},
   "source": [
    "## Solve the model Analytically"
   ]
  },
  {
   "cell_type": "markdown",
   "metadata": {},
   "source": [
    "If your model allows for an analytical solution, you should provide here.\n",
    "\n",
    "You may use Sympy for this. Then you can characterize the solution as a function of a parameter of the model.\n",
    "\n",
    "To characterize the solution, first derive a steady state equation as a function of a parameter using Sympy.solve and then turn it into a python function by Sympy.lambdify. See the lecture notes for details. "
   ]
  },
  {
   "cell_type": "code",
   "execution_count": 57,
   "metadata": {},
   "outputs": [],
   "source": [
    "# Define variables used in this model\n",
    "\n",
    "q1 = symbols('q1')\n",
    "q2 = symbols('q2')\n",
    "a = symbols('a')\n",
    "b = symbols('b')\n",
    "c = symbols('c')\n",
    "MC = c"
   ]
  },
  {
   "cell_type": "code",
   "execution_count": 58,
   "metadata": {},
   "outputs": [],
   "source": [
    "# Define the inverse demand function and the cost function \n",
    "\n",
    "def p(q1,q2):\n",
    "    return 1-a* q1 - b* q2\n",
    "\n",
    "def cost(q,MC):\n",
    "    if q == 0:\n",
    "        cost = 0 \n",
    "    else:\n",
    "        cost = MC*q\n",
    "    return cost"
   ]
  },
  {
   "cell_type": "code",
   "execution_count": 59,
   "metadata": {},
   "outputs": [],
   "source": [
    "# Define the profit function of a firm with cost level c that produces output q1 while its competitor produces q2.\n",
    "\n",
    "def profit(q1,q2,MC):\n",
    "    return p(q1,q2)*q1 - cost(q1,MC)"
   ]
  },
  {
   "cell_type": "code",
   "execution_count": 60,
   "metadata": {},
   "outputs": [
    {
     "data": {
      "text/latex": [
       "$\\displaystyle - 2 a q_{1} - b q_{2} - c + 1$"
      ],
      "text/plain": [
       "-2*a*q1 - b*q2 - c + 1"
      ]
     },
     "execution_count": 60,
     "metadata": {},
     "output_type": "execute_result"
    }
   ],
   "source": [
    "# Derive the first order condition for q1\n",
    "\n",
    "foc1 = diff(profit(q1,q2,MC),q1)\n",
    "foc1\n"
   ]
  },
  {
   "cell_type": "code",
   "execution_count": 61,
   "metadata": {},
   "outputs": [
    {
     "data": {
      "text/latex": [
       "$\\displaystyle - 2 a q_{2} - b q_{1} - c + 1$"
      ],
      "text/plain": [
       "-2*a*q2 - b*q1 - c + 1"
      ]
     },
     "execution_count": 61,
     "metadata": {},
     "output_type": "execute_result"
    }
   ],
   "source": [
    "# Derive the first order condition for q2\n",
    "\n",
    "foc2 = diff(profit(q2,q1,MC),q2)\n",
    "foc2"
   ]
  },
  {
   "cell_type": "code",
   "execution_count": 62,
   "metadata": {},
   "outputs": [
    {
     "data": {
      "text/plain": [
       "{q1: (1 - c)/(2*a + b), q2: (1 - c)/(2*a + b)}"
      ]
     },
     "execution_count": 62,
     "metadata": {},
     "output_type": "execute_result"
    }
   ],
   "source": [
    "# In equilibrium the first order condition for both firms are equal to 0\n",
    "\n",
    "solve([foc1, foc2], [q1, q2])"
   ]
  },
  {
   "attachments": {},
   "cell_type": "markdown",
   "metadata": {},
   "source": [
    "## Solve the model Numerically"
   ]
  },
  {
   "cell_type": "markdown",
   "metadata": {},
   "source": [
    "You can always solve a model numerically. \n",
    "\n",
    "Define first the set of parameters you need. \n",
    "\n",
    "Then choose one of the optimization algorithms that we have gone through in the lectures based on what you think is most fitting for your model.\n",
    "\n",
    "Are there any problems with convergence? Does the model converge for all starting values? Make a lot of testing to figure these things out. "
   ]
  },
  {
   "cell_type": "code",
   "execution_count": 48,
   "metadata": {},
   "outputs": [],
   "source": [
    "# Clear previous python imports and variables\n",
    "\n",
    "from scipy import optimize,arange\n",
    "from numpy import array\n",
    "import matplotlib.pyplot as plt\n",
    "%matplotlib inline"
   ]
  },
  {
   "cell_type": "code",
   "execution_count": 49,
   "metadata": {},
   "outputs": [],
   "source": [
    "# Define the inverse demand function and the cost function \n",
    "\n",
    "def p(q1,q2):\n",
    "    return 1-a* q1 - b* q2\n",
    "\n",
    "def costs(q,MC):\n",
    "    return MC*q"
   ]
  },
  {
   "cell_type": "code",
   "execution_count": 51,
   "metadata": {},
   "outputs": [],
   "source": [
    "# Define the profit function of a firm with cost level c that produces output $q_1$ while its competitor produces $q_2$.\n",
    "\n",
    "def profits(demand_function,cost_function,MC,q1,q2):\n",
    "    return demand_function(q1,q2)*q1-costs(q1,MC)"
   ]
  },
  {
   "cell_type": "code",
   "execution_count": 63,
   "metadata": {},
   "outputs": [],
   "source": [
    "# Values for the demand parameters a, b\n",
    "\n",
    "a = 1\n",
    "b = 1\n",
    "c = 1"
   ]
  },
  {
   "attachments": {},
   "cell_type": "markdown",
   "metadata": {},
   "source": [
    "Each firm wants to maximize its profit. However, Python does not maximization routines but only minimization routines. Hence, if we want to maximize profits, we need to minimize."
   ]
  },
  {
   "cell_type": "code",
   "execution_count": 64,
   "metadata": {},
   "outputs": [
    {
     "data": {
      "text/plain": [
       "array([0.33333333, 0.33333333])"
      ]
     },
     "execution_count": 64,
     "metadata": {},
     "output_type": "execute_result"
    }
   ],
   "source": [
    "\n",
    "def reaction(q2,MC):\n",
    "    q1 =  optimize.fminbound(lambda x: -profits(p,costs,MC,x,q2),0,1,full_output=1)\n",
    "    return q1[0]\n",
    "\n",
    "# Define the function -> equilibrium of q - R(q)\n",
    "def fixed_point(q,c):\n",
    "    return [q[0]-reaction(q[1],c[0]),q[1]-reaction(q[0],c[1])]\n",
    "\n",
    "#Initial guess \n",
    "initial_guess = [0,0]\n",
    "\n",
    "# Solve the model for the case where c1 = c2 = 0 and a = b = 1\n",
    "optimize.fsolve(lambda q: fixed_point(q,[0,0]), initial_guess)"
   ]
  },
  {
   "attachments": {},
   "cell_type": "markdown",
   "metadata": {},
   "source": [
    "# Further analysis"
   ]
  },
  {
   "cell_type": "markdown",
   "metadata": {},
   "source": [
    "Make detailed vizualizations of how your model changes with parameter values. \n",
    "\n",
    "Try to make an extension of the model. "
   ]
  },
  {
   "attachments": {},
   "cell_type": "markdown",
   "metadata": {},
   "source": [
    "# Plot of the output level of firms' 1 and 2 as a function of c1"
   ]
  },
  {
   "cell_type": "code",
   "execution_count": 55,
   "metadata": {},
   "outputs": [
    {
     "name": "stderr",
     "output_type": "stream",
     "text": [
      "/var/folders/6g/ztqdjshx67n8pkkmdc8z2c3w0000gp/T/ipykernel_74556/3116457274.py:1: DeprecationWarning: scipy.arange is deprecated and will be removed in SciPy 2.0.0, use numpy.arange instead\n",
      "  range_c = arange(0,0.51,0.01)\n"
     ]
    },
    {
     "data": {
      "image/png": "[encoded data removed]",
      "text/plain": [
       "<Figure size 800x550 with 1 Axes>"
      ]
     },
     "metadata": {},
     "output_type": "display_data"
    }
   ],
   "source": [
    "range_c = arange(0,0.51,0.01)\n",
    "range_q = [optimize.fsolve(lambda q: fixed_point(q,[c,0]), [0,0]) for c in range_c]\n",
    "plt.style.use('seaborn')\n",
    "plt.clf()\n",
    "plt.plot(range_c,array(range_q)[:,1], label = '$q_1$')\n",
    "plt.plot(range_c,array(range_q)[:,0], label = '$q_2$')\n",
    "plt.xlabel('$c_1$')\n",
    "plt.ylabel('$q$')\n",
    "plt.legend()\n",
    "plt.savefig('Cournot.png')"
   ]
  },
  {
   "cell_type": "markdown",
   "metadata": {},
   "source": [
    "# Conclusion"
   ]
  },
  {
   "cell_type": "markdown",
   "metadata": {},
   "source": [
    "Add concise conclusion. "
   ]
  }
 ],
 "metadata": {
  "kernelspec": {
   "display_name": "base",
   "language": "python",
   "name": "python3"
  },
  "language_info": {
   "codemirror_mode": {
    "name": "ipython",
    "version": 3
   },
   "file_extension": ".py",
   "mimetype": "text/x-python",
   "name": "python",
   "nbconvert_exporter": "python",
   "pygments_lexer": "ipython3",
   "version": "3.9.13"
  },
  "toc-autonumbering": true,
  "vscode": {
   "interpreter": {
    "hash": "cf1ee66cb0a5dbbe9b15b35d8b5ef163dfe6de55254de5ac3d70cf481ad0a057"
   }
  }
 },
 "nbformat": 4,
 "nbformat_minor": 4
}
