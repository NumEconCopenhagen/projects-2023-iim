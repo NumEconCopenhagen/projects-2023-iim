{
 "cells": [
  {
   "attachments": {},
   "cell_type": "markdown",
   "metadata": {},
   "source": [
    "# Solving the Cournot model"
   ]
  },
  {
   "cell_type": "markdown",
   "metadata": {},
   "source": [
    "Imports and set magics:"
   ]
  },
  {
   "cell_type": "code",
   "execution_count": 1,
   "metadata": {},
   "outputs": [],
   "source": [
    "import numpy as np\n",
    "from scipy import optimize\n",
    "import sympy as sm\n",
    "from sympy import *\n",
    "\n",
    "# autoreload modules when code is run\n",
    "%load_ext autoreload\n",
    "%autoreload 2\n",
    "\n",
    "# local modules\n",
    "from modelproject import ModelProjectClass"
   ]
  },
  {
   "attachments": {},
   "cell_type": "markdown",
   "metadata": {},
   "source": [
    "# Model"
   ]
  },
  {
   "attachments": {},
   "cell_type": "markdown",
   "metadata": {},
   "source": [
    "In this project we examing the Cournot competition model which is a game model describing quantity competition in an oligopolistic market. Each firm choose the quantity to produce independently and simontaniosly if the other firms . The Nash equilibrium in a Cournot model with two completely homogeneous players is given by x1 = x2. Under Cournot competition, total market output is strictly greater than under monopoly. In a Cournot model is as a starting point in equilibrium inefficient. In a Cournot equilibrium, then N = 1 corresponds to monopoly and N $->$ $\\infty$  corresponding to perfect competition.\n",
    "\n",
    "The set up is the standard Cournot model where we work with a linear demand curve\n",
    "\n",
    "$p_i(q_i, q_j) = 1 - aq_i - bq_j$\n",
    "\n",
    "and costs\n",
    "\n",
    "$c_i(q) =c_i q$\n",
    "\n",
    "Where $q_i$ denotes firm i's output on the market\n",
    "\n",
    "Firm i´s profit is written as:\n",
    "\n",
    "$\\pi(q_i,q_j) = (1 - aq_i - bq_j) - cq_i$ "
   ]
  },
  {
   "attachments": {},
   "cell_type": "markdown",
   "metadata": {},
   "source": [
    "**Write out the model in equations here.*** \n",
    "\n",
    "Make sure you explain well the purpose of the model and comment so that other students who may not have seen it before can follow.  "
   ]
  },
  {
   "attachments": {},
   "cell_type": "markdown",
   "metadata": {},
   "source": [
    "## Solving the Cournot model Analytically"
   ]
  },
  {
   "cell_type": "code",
   "execution_count": 2,
   "metadata": {},
   "outputs": [],
   "source": [
    "# Define variables used in this model\n",
    "\n",
    "q1 = symbols('q1')\n",
    "q2 = symbols('q2')\n",
    "a = symbols('a')\n",
    "b = symbols('b')\n",
    "c = symbols('c')\n",
    "MC = c"
   ]
  },
  {
   "cell_type": "code",
   "execution_count": 3,
   "metadata": {},
   "outputs": [],
   "source": [
    "# Define the inverse demand function and the cost function \n",
    "\n",
    "def p(q1,q2):\n",
    "    return 1-a* q1 - b* q2\n",
    "\n",
    "def cost(q,MC):\n",
    "    if q == 0:\n",
    "        cost = 0 \n",
    "    else:\n",
    "        cost = MC*q\n",
    "    return cost"
   ]
  },
  {
   "cell_type": "code",
   "execution_count": 4,
   "metadata": {},
   "outputs": [],
   "source": [
    "# Define the profit function of a firm with cost level c that produces output q1 while its competitor produces q2.\n",
    "\n",
    "def profit(q1,q2,MC):\n",
    "    return p(q1,q2)*q1 - cost(q1,MC)"
   ]
  },
  {
   "cell_type": "code",
   "execution_count": 5,
   "metadata": {},
   "outputs": [
    {
     "data": {
      "text/latex": [
       "$\\displaystyle - 2 a q_{1} - b q_{2} - c + 1$"
      ],
      "text/plain": [
       "-2*a*q1 - b*q2 - c + 1"
      ]
     },
     "execution_count": 5,
     "metadata": {},
     "output_type": "execute_result"
    }
   ],
   "source": [
    "# Derive the first order condition for q1\n",
    "\n",
    "foc1 = diff(profit(q1,q2,MC),q1)\n",
    "foc1\n"
   ]
  },
  {
   "cell_type": "code",
   "execution_count": 6,
   "metadata": {},
   "outputs": [
    {
     "data": {
      "text/latex": [
       "$\\displaystyle - 2 a q_{2} - b q_{1} - c + 1$"
      ],
      "text/plain": [
       "-2*a*q2 - b*q1 - c + 1"
      ]
     },
     "execution_count": 6,
     "metadata": {},
     "output_type": "execute_result"
    }
   ],
   "source": [
    "# Derive the first order condition for q2\n",
    "\n",
    "foc2 = diff(profit(q2,q1,MC),q2)\n",
    "foc2"
   ]
  },
  {
   "cell_type": "code",
   "execution_count": 7,
   "metadata": {},
   "outputs": [
    {
     "data": {
      "text/plain": [
       "{q1: (1 - c)/(2*a + b), q2: (1 - c)/(2*a + b)}"
      ]
     },
     "execution_count": 7,
     "metadata": {},
     "output_type": "execute_result"
    }
   ],
   "source": [
    "# In equilibrium the first order condition for both firms are equal to 0\n",
    "\n",
    "solve([foc1, foc2], [q1, q2])"
   ]
  },
  {
   "attachments": {},
   "cell_type": "markdown",
   "metadata": {},
   "source": [
    "## Solving the model Numerically for an duopol"
   ]
  },
  {
   "attachments": {},
   "cell_type": "markdown",
   "metadata": {},
   "source": [
    "You can always solve a model numerically. \n",
    "\n",
    "Define first the set of parameters you need. \n",
    "\n",
    "Then choose one of the optimization algorithms that we have gone through in the lectures based on what you think is most fitting for your model.\n",
    "\n",
    "Are there any problems with convergence? Does the model converge for all starting values? Make a lot of testing to figure these things out. "
   ]
  },
  {
   "cell_type": "code",
   "execution_count": 8,
   "metadata": {},
   "outputs": [],
   "source": [
    "# Clear previous python imports and variables\n",
    "\n",
    "from scipy import optimize,arange\n",
    "from numpy import array\n",
    "import matplotlib.pyplot as plt\n",
    "%matplotlib inline"
   ]
  },
  {
   "cell_type": "code",
   "execution_count": 9,
   "metadata": {},
   "outputs": [],
   "source": [
    "# Define the inverse demand function and the cost function \n",
    "\n",
    "def p(q1,q2):\n",
    "    return 1-a* q1 - b* q2\n",
    "\n",
    "def costs(q,MC):\n",
    "    return MC*q"
   ]
  },
  {
   "cell_type": "code",
   "execution_count": 10,
   "metadata": {},
   "outputs": [],
   "source": [
    "# Define the profit function of a firm with cost level c that produces output $q_1$ while its competitor produces $q_2$.\n",
    "\n",
    "def profits(demand_function,cost_function,MC,q1,q2):\n",
    "    return demand_function(q1,q2)*q1-costs(q1,MC)"
   ]
  },
  {
   "cell_type": "code",
   "execution_count": 17,
   "metadata": {},
   "outputs": [],
   "source": [
    "# Values for the demand parameters a, b\n",
    "\n",
    "a = 1\n",
    "b = 1\n",
    "c = 1"
   ]
  },
  {
   "attachments": {},
   "cell_type": "markdown",
   "metadata": {},
   "source": [
    "Each firm wants to maximize its profit. However, Python does not maximization routines but only minimization routines. Hence, if we want to maximize profits, we need to minimize."
   ]
  },
  {
   "cell_type": "code",
   "execution_count": 12,
   "metadata": {},
   "outputs": [
    {
     "data": {
      "text/plain": [
       "array([0.33333333, 0.33333333])"
      ]
     },
     "execution_count": 12,
     "metadata": {},
     "output_type": "execute_result"
    }
   ],
   "source": [
    "\n",
    "def reaction(q2,MC):\n",
    "    q1 =  optimize.fminbound(lambda x: -profits(p,costs,MC,x,q2),0,1,full_output=1)\n",
    "    return q1[0]\n",
    "\n",
    "# Define the function -> equilibrium of q - R(q)\n",
    "def fixed_point(q,c):\n",
    "    return [q[0]-reaction(q[1],c[0]),q[1]-reaction(q[0],c[1])]\n",
    "\n",
    "#Initial guess \n",
    "initial_guess = [0,0]\n",
    "\n",
    "# Solve the model for the case where c1 = c2 = 0 and a = b = 1\n",
    "optimize.fsolve(lambda q: fixed_point(q,[0,0]), initial_guess)"
   ]
  },
  {
   "attachments": {},
   "cell_type": "markdown",
   "metadata": {},
   "source": [
    "We start by solving our model for two firms meaning whe have a cournot duopol. For simplicity the firms in our model all have the same marginal costs and therefore each firm will produce an equal amount."
   ]
  },
  {
   "cell_type": "code",
   "execution_count": 13,
   "metadata": {},
   "outputs": [
    {
     "name": "stdout",
     "output_type": "stream",
     "text": [
      "[2.49999999]\n"
     ]
    }
   ],
   "source": [
    "# Calling our model for two firms\n",
    "model = ModelProjectClass(n=2)\n",
    "\n",
    "# Setting the parameters\n",
    "eq = model.EQ(12, 2, 1, 2)\n",
    "\n",
    "# Printing the cournot equilibrium output\n",
    "print(eq)"
   ]
  },
  {
   "attachments": {},
   "cell_type": "markdown",
   "metadata": {},
   "source": [
    "We find that in a cournot duopol each of the two firms wll poduce af quantity of 2.5 of the good when the variables is set to\n",
    "a=12\n",
    "b=2\n",
    "c=1"
   ]
  },
  {
   "attachments": {},
   "cell_type": "markdown",
   "metadata": {},
   "source": [
    "# Extending the Cournot model to N firms"
   ]
  },
  {
   "attachments": {},
   "cell_type": "markdown",
   "metadata": {},
   "source": [
    "The standard cournot model is for oligopoistic competition, but can also be extended to include n number of firms."
   ]
  },
  {
   "attachments": {},
   "cell_type": "markdown",
   "metadata": {},
   "source": [
    "## Tilføj Interaktiv figur med paramter"
   ]
  },
  {
   "cell_type": "code",
   "execution_count": 14,
   "metadata": {},
   "outputs": [
    {
     "data": {
      "image/png": "[encoded data removed]",
      "text/plain": [
       "<Figure size 640x480 with 1 Axes>"
      ]
     },
     "metadata": {},
     "output_type": "display_data"
    }
   ],
   "source": [
    "import matplotlib.pyplot as plt\n",
    "\n",
    "# Define the range of n values to plot\n",
    "n_values = [2, 4, 6, 8, 10, 12, 14, 16]\n",
    "\n",
    "# Initialize lists to store EQ amounts for each n value\n",
    "eq_amounts = []\n",
    "\n",
    "# Create an instance of the MyModel class\n",
    "model = ModelProjectClass(n=16)\n",
    "\n",
    "# Call the EQ method for each n value and store the EQ amount in the list\n",
    "for n in n_values:\n",
    "    eq = model.EQ(20, 2, 1, n)\n",
    "    eq_amounts.append(eq)\n",
    "\n",
    "# Create the plot\n",
    "plt.plot(n_values, eq_amounts)\n",
    "plt.xlabel('NNumber of firms')\n",
    "plt.ylabel('Cournot Equilibrium quantity')\n",
    "plt.title('Cournot Equilibrium quantity vs. number of firms')\n",
    "plt.show()"
   ]
  },
  {
   "attachments": {},
   "cell_type": "markdown",
   "metadata": {},
   "source": [
    "Each firm will try to maximize their profit, but as more firms enter the market, the total profit becomes smaller because the compition for market share becomes higher. This leads to negative relationship presented in the plot, where as more firms enter the market, their market share each becomes smaller"
   ]
  },
  {
   "cell_type": "markdown",
   "metadata": {},
   "source": [
    "Make detailed vizualizations of how your model changes with parameter values. \n",
    "\n",
    "Try to make an extension of the model. "
   ]
  },
  {
   "attachments": {},
   "cell_type": "markdown",
   "metadata": {},
   "source": [
    "# Plot of the output level of firms' 1 and 2 as a function of c1"
   ]
  },
  {
   "cell_type": "code",
   "execution_count": 15,
   "metadata": {},
   "outputs": [
    {
     "name": "stderr",
     "output_type": "stream",
     "text": [
      "/var/folders/ct/xd1r_8d94f5bd7k32gt69gv80000gn/T/ipykernel_86386/3116457274.py:1: DeprecationWarning: scipy.arange is deprecated and will be removed in SciPy 2.0.0, use numpy.arange instead\n",
      "  range_c = arange(0,0.51,0.01)\n",
      "/var/folders/ct/xd1r_8d94f5bd7k32gt69gv80000gn/T/ipykernel_86386/3116457274.py:3: MatplotlibDeprecationWarning: The seaborn styles shipped by Matplotlib are deprecated since 3.6, as they no longer correspond to the styles shipped by seaborn. However, they will remain available as 'seaborn-v0_8-<style>'. Alternatively, directly use the seaborn API instead.\n",
      "  plt.style.use('seaborn')\n"
     ]
    },
    {
     "data": {
      "image/png": "[encoded data removed]",
      "text/plain": [
       "<Figure size 800x550 with 1 Axes>"
      ]
     },
     "metadata": {},
     "output_type": "display_data"
    }
   ],
   "source": [
    "range_c = arange(0,0.51,0.01)\n",
    "range_q = [optimize.fsolve(lambda q: fixed_point(q,[c,0]), [0,0]) for c in range_c]\n",
    "plt.style.use('seaborn')\n",
    "plt.clf()\n",
    "plt.plot(range_c,array(range_q)[:,1], label = '$q_1$')\n",
    "plt.plot(range_c,array(range_q)[:,0], label = '$q_2$')\n",
    "plt.xlabel('$c_1$')\n",
    "plt.ylabel('$q$')\n",
    "plt.legend()\n",
    "plt.savefig('Cournot.png')"
   ]
  },
  {
   "cell_type": "markdown",
   "metadata": {},
   "source": [
    "# Conclusion"
   ]
  },
  {
   "cell_type": "markdown",
   "metadata": {},
   "source": [
    "Add concise conclusion. "
   ]
  }
 ],
 "metadata": {
  "kernelspec": {
   "display_name": "base",
   "language": "python",
   "name": "python3"
  },
  "language_info": {
   "codemirror_mode": {
    "name": "ipython",
    "version": 3
   },
   "file_extension": ".py",
   "mimetype": "text/x-python",
   "name": "python",
   "nbconvert_exporter": "python",
   "pygments_lexer": "ipython3",
   "version": "3.9.13"
  },
  "toc-autonumbering": true,
  "vscode": {
   "interpreter": {
    "hash": "40d3a090f54c6569ab1632332b64b2c03c39dcf918b08424e98f38b5ae0af88f"
   }
  }
 },
 "nbformat": 4,
 "nbformat_minor": 4
}
