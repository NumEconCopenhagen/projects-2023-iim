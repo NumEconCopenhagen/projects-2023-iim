{
 "cells": [
  {
   "attachments": {},
   "cell_type": "markdown",
   "metadata": {},
   "source": [
    "# An examination of the Cournot Model for two and multiple Firms"
   ]
  },
  {
   "cell_type": "markdown",
   "metadata": {},
   "source": [
    "This project examines the Cournot competition model which is used to analyze the behaviour of firms in an duopol market. We start by deriving the model analytically for two firms and later on we solve the model numerically. At last we extend the model to include N number of firms and examine how this changes the the produced quantity of goods for the firms.\n"
   ]
  },
  {
   "attachments": {},
   "cell_type": "markdown",
   "metadata": {},
   "source": [
    "We start by importing our class 'ModelProjectClass' which contaions the equations and methos we use to solve this model project assignment.  "
   ]
  },
  {
   "cell_type": "code",
   "execution_count": 1,
   "metadata": {},
   "outputs": [],
   "source": [
    "import sympy as sm\n",
    "from sympy import *\n",
    "\n",
    "# autoreload modules when code is run\n",
    "%load_ext autoreload\n",
    "%autoreload 2\n",
    "\n",
    "# local modules\n",
    "from modelproject import ModelProjectClass"
   ]
  },
  {
   "attachments": {},
   "cell_type": "markdown",
   "metadata": {},
   "source": [
    "# Description of the Cournot Model"
   ]
  },
  {
   "attachments": {},
   "cell_type": "markdown",
   "metadata": {},
   "source": [
    "In the Cournot model the firms compete for the quantities and therefore simultaneously choose the quantity that they want to produce in order to maximize their own profit. The market price depend on the quantities produced by the firm and the firm must also take the production of other firms into account.\n",
    "\n",
    "For this Cournot Model we work with a linear demand function\n",
    "\n",
    "$$p_i(q_i, q_j) = 1 - aq_i - bq_j$$\n",
    "\n",
    "where $q_i$ and $q_j$ denotes the quantity of the good each firm produce, $a$ is the intercept of the demand curve and b is the slope of the demand curve meaning the elasticity of substition of the good produced\n",
    "\n",
    "A cost function, where $c_i$ is the cost of producing one unit of the good. To simplify our model each the firms cost are symmetrical\n",
    "\n",
    "$$c_i(q) =c_i q$$\n",
    "\n",
    "Firm i´s maximization problem is is written as:\n",
    "\n",
    "$$\n",
    "\\max_{q_i} \\pi_i = (p-c)q_i\n",
    "$$"
   ]
  },
  {
   "attachments": {},
   "cell_type": "markdown",
   "metadata": {},
   "source": [
    "# Solving the Cournot Model Analytically"
   ]
  },
  {
   "attachments": {},
   "cell_type": "markdown",
   "metadata": {},
   "source": [
    "<strong>Procedure </strong>\n",
    "1. Defining the varibales and funtions used in the model\n",
    "2. Maximizing the profits of form 1 wrt. $q_1$\n",
    "3. Deriving FOC's for both firms and solving for $q_1$ and $q_2$, which gives the optimal quantity to produce for each firm"
   ]
  },
  {
   "cell_type": "code",
   "execution_count": 2,
   "metadata": {},
   "outputs": [],
   "source": [
    "# Define variables used in the model\n",
    "q1 = symbols('q1')\n",
    "q2 = symbols('q2')\n",
    "a = symbols('a')\n",
    "b = symbols('b')\n",
    "c = symbols('c')\n",
    "MC = c"
   ]
  },
  {
   "cell_type": "code",
   "execution_count": 3,
   "metadata": {},
   "outputs": [],
   "source": [
    "# Define the inverse demand function and the cost function \n",
    "def p(q1,q2):\n",
    "    return 1-a* q1 - b* q2\n",
    "\n",
    "def cost(q,MC):\n",
    "    if q == 0:\n",
    "        cost = 0 \n",
    "    else:\n",
    "        cost = MC*q\n",
    "    return cost"
   ]
  },
  {
   "cell_type": "code",
   "execution_count": 4,
   "metadata": {},
   "outputs": [],
   "source": [
    "# Define the profit max function of a firm with cost level c that produces output q1 while its competitor produces q2.\n",
    "def profit(q1,q2,MC):\n",
    "    return p(q1,q2)*q1 - cost(q1,MC)"
   ]
  },
  {
   "cell_type": "code",
   "execution_count": 5,
   "metadata": {},
   "outputs": [
    {
     "data": {
      "text/latex": [
       "$\\displaystyle - 2 a q_{1} - b q_{2} - c + 1$"
      ],
      "text/plain": [
       "-2*a*q1 - b*q2 - c + 1"
      ]
     },
     "execution_count": 5,
     "metadata": {},
     "output_type": "execute_result"
    }
   ],
   "source": [
    "# Derive the first order condition for q1\n",
    "foc1 = diff(profit(q1,q2,MC),q1)\n",
    "foc1"
   ]
  },
  {
   "cell_type": "code",
   "execution_count": 6,
   "metadata": {},
   "outputs": [
    {
     "data": {
      "text/latex": [
       "$\\displaystyle - 2 a q_{2} - b q_{1} - c + 1$"
      ],
      "text/plain": [
       "-2*a*q2 - b*q1 - c + 1"
      ]
     },
     "execution_count": 6,
     "metadata": {},
     "output_type": "execute_result"
    }
   ],
   "source": [
    "# Derive the first order condition for q2\n",
    "foc2 = diff(profit(q2,q1,MC),q2)\n",
    "foc2 "
   ]
  },
  {
   "cell_type": "code",
   "execution_count": 7,
   "metadata": {},
   "outputs": [
    {
     "name": "stdout",
     "output_type": "stream",
     "text": [
      "Optimal q1:\n",
      " 1 - c \n",
      "───────\n",
      "2⋅a + b\n",
      "\n",
      "Optimal q2:\n",
      " 1 - c \n",
      "───────\n",
      "2⋅a + b\n"
     ]
    }
   ],
   "source": [
    "# In equilibrium the first order condition for both firms are equal to 0\n",
    "\n",
    "# Solving to find the optimal quantities for each firm\n",
    "opt_q = solve([foc1, foc2], [q1, q2])\n",
    "\n",
    "# Printint the optimal quantities of q1 and q2\n",
    "print(\"Optimal q1:\")\n",
    "pprint(opt_q[q1])\n",
    "print(\"\\nOptimal q2:\")\n",
    "pprint(opt_q[q2])"
   ]
  },
  {
   "attachments": {},
   "cell_type": "markdown",
   "metadata": {},
   "source": [
    "We observe that the optimal $q_1$ and $q_2$ are identical, which makes sense due to the fact that the two firms are identical"
   ]
  },
  {
   "attachments": {},
   "cell_type": "markdown",
   "metadata": {},
   "source": [
    "# Solving the model Numerically for a Cournot Duopol"
   ]
  },
  {
   "attachments": {},
   "cell_type": "markdown",
   "metadata": {},
   "source": [
    "In this section we solve the model numerically for the situation where there are two firms in the market i.e a duopol. As mentioned before, the firms in our model are identical and therefore each firm will produce an equal quantity of the good. Each firm wants to maximize its profit\n",
    "\n",
    "<strong>Procedure </strong>\n",
    "1. We start by builnding the model in the py.file\n",
    "2. Setting the paramter values\n",
    "3. Making an interactive plot to see how the quantity produced change as the parameters change"
   ]
  },
  {
   "cell_type": "code",
   "execution_count": 8,
   "metadata": {},
   "outputs": [
    {
     "name": "stdout",
     "output_type": "stream",
     "text": [
      "When there are 2 firms in the market (duopol), the optimal quantity produced by each firm is: 5.33, for the given values og a, b and c\n"
     ]
    }
   ],
   "source": [
    "# Creating an instance of the ModelProjectClass\n",
    "model = ModelProjectClass()\n",
    "\n",
    "# Setting parameter values\n",
    "n = 2\n",
    "a = 10\n",
    "b = 0.5\n",
    "c = 2\n",
    "\n",
    "# Calling our model from the py-file\n",
    "EQ_list, n_list = model.Results(n, a, b, c)\n",
    "\n",
    "\n",
    "# Itereating over the EQ_list and printing the results\n",
    "for i in range(len(EQ_list)):\n",
    "    print(f\"When there are 2 firms in the market (duopol), the optimal quantity produced by each firm is: {EQ_list[i]:.3}, for the given values og a, b and c\")"
   ]
  },
  {
   "attachments": {},
   "cell_type": "markdown",
   "metadata": {},
   "source": [
    "## Interactive plot for a Cournot duopol"
   ]
  },
  {
   "attachments": {},
   "cell_type": "markdown",
   "metadata": {},
   "source": [
    "We have constructed an interactive plot to examine how the parameters $a$, $b$ and $c$ affects the optimal quantities produced. \n",
    "\n",
    "When changing the parameters in the interactive plot it will have the following effect:\n",
    "\n",
    "$a$ is the maximum level of demand in the the marked (meaning the level demanded when the total quantity supplied is 0). Therefore a higher value of $a$ means that the level of demand is higher and the total quantity of goods produced is higher.\n",
    "\n",
    "$b$ is the elasticity of substitution between the two firms. A higher value of $b$ means a higher degree of demand elasticity and therefore more competotion which brings the total quantity of goods produced down.\n",
    "\n",
    "$c$ is the cost of producing one unit if the good. The higher the cost is, the less profitable it is for the firm to produce one more unit of the good, meaning the quantity of goods produced becomes smaller."
   ]
  },
  {
   "cell_type": "code",
   "execution_count": 9,
   "metadata": {},
   "outputs": [
    {
     "data": {
      "application/vnd.jupyter.widget-view+json": {
       "model_id": "11b0e5aa37cd442e92be783ee17c9469",
       "version_major": 2,
       "version_minor": 0
      },
      "text/plain": [
       "interactive(children=(FloatSlider(value=50.0, description='a', max=200.0, step=10.0), FloatSlider(value=0.5, d…"
      ]
     },
     "metadata": {},
     "output_type": "display_data"
    },
    {
     "data": {
      "text/plain": [
       "<function __main__.interactive_plot(a, b, c)>"
      ]
     },
     "execution_count": 9,
     "metadata": {},
     "output_type": "execute_result"
    }
   ],
   "source": [
    "# Creating an instance of the ModelProjectClass\n",
    "from ipywidgets import interact, FloatSlider\n",
    "model = ModelProjectClass()\n",
    "\n",
    "# Defining our interactive function\n",
    "def interactive_plot(a, b, c):\n",
    "    model.plot1(a, b, c)\n",
    "\n",
    "# Setting startvalues\n",
    "start_a = 50\n",
    "start_b = 0.5\n",
    "start_c = 10\n",
    "\n",
    "# Create the interactive plot\n",
    "interact(interactive_plot,\n",
    "         a=FloatSlider(value=start_a, min=0, max=200, step=10, description='a'),\n",
    "         b=FloatSlider(value=start_b, min=0, max=1, step=0.1, description='b'),\n",
    "         c=FloatSlider(value=start_c, min=0, max=50, step=1, description='c'))"
   ]
  },
  {
   "attachments": {},
   "cell_type": "markdown",
   "metadata": {},
   "source": [
    "The interactive plot show the two firms on (x-axis) and the optimal quantity each firm produce on the (y-axis). Notice that the two firms produce the same quantity no matter how the parameters are changes. As mentioned before this is due to the fact that the firms are identical."
   ]
  },
  {
   "attachments": {},
   "cell_type": "markdown",
   "metadata": {},
   "source": [
    "# Extending the Cournot Model to N firms"
   ]
  },
  {
   "attachments": {},
   "cell_type": "markdown",
   "metadata": {},
   "source": [
    "We examine how an extending the model to include n number of firms affect the optimal quantities produced.\n",
    "\n",
    "<strong>Procedure </strong>\n",
    "1. Setting the number of firms to 20 (Notice that the higher the number of firms is, the longer time the code takes to run)\n",
    "2. Plotting the number of firms against the omtimal quantity produced"
   ]
  },
  {
   "cell_type": "code",
   "execution_count": 10,
   "metadata": {},
   "outputs": [
    {
     "name": "stderr",
     "output_type": "stream",
     "text": [
      "/opt/anaconda3/lib/python3.9/site-packages/scipy/optimize/_minpack_py.py:178: RuntimeWarning: The iteration is not making good progress, as measured by the \n",
      "  improvement from the last ten iterations.\n",
      "  warnings.warn(msg, RuntimeWarning)\n"
     ]
    },
    {
     "data": {
      "image/png": "[encoded data removed]",
      "text/plain": [
       "<Figure size 640x480 with 1 Axes>"
      ]
     },
     "metadata": {},
     "output_type": "display_data"
    }
   ],
   "source": [
    "# Creating an instance of the ModelProjectClass\n",
    "model = ModelProjectClass()\n",
    "\n",
    "# Setting parameter values\n",
    "n = 20\n",
    "a = 10\n",
    "b = 0.5\n",
    "c = 2\n",
    "\n",
    "# Calling our model from the py-file\n",
    "EQ_list, n_list = model.Results(n, a, b, c)\n",
    "\n",
    "# Plotting the results\n",
    "model.plot2(EQ_list, n_list)"
   ]
  },
  {
   "attachments": {},
   "cell_type": "markdown",
   "metadata": {},
   "source": [
    "In a Cournot competition, each firm aims to maximize its profit. However, as more firms enter the market, the total profit available decreases due to intensified competition for market share. This inverse relationship is depicted in the plot, where an increase in the number of firms results in a decrease in the market share for each firm and less quantities produced. As more firms enter the market, the market share of each individual firm declines."
   ]
  },
  {
   "cell_type": "markdown",
   "metadata": {},
   "source": [
    "# Conclusion"
   ]
  },
  {
   "attachments": {},
   "cell_type": "markdown",
   "metadata": {},
   "source": [
    "In this assignment, we have examined the Cournot Model\n",
    "First, we solved it analytically using sympy. Then we solved a Cournot doupoly numerically for the market with two firms. Additionally we examine the impact of varying the paramters $a$, $b$ and $c$. Finally we made an extension which solves the Cournot Model for any number of firms. \n",
    "\n",
    "We see that when the number of firms increase, the quantity produced by each firm declines. This is typical for a market characterized by oligopoly. As the number of firms increases, the total market quantity rises, leading to a decrease in market price and individual firms' profits. As more firms enter the market, the moves towards a more competitive market. "
   ]
  }
 ],
 "metadata": {
  "kernelspec": {
   "display_name": "base",
   "language": "python",
   "name": "python3"
  },
  "language_info": {
   "codemirror_mode": {
    "name": "ipython",
    "version": 3
   },
   "file_extension": ".py",
   "mimetype": "text/x-python",
   "name": "python",
   "nbconvert_exporter": "python",
   "pygments_lexer": "ipython3",
   "version": "3.9.13"
  },
  "toc-autonumbering": true,
  "vscode": {
   "interpreter": {
    "hash": "40d3a090f54c6569ab1632332b64b2c03c39dcf918b08424e98f38b5ae0af88f"
   }
  }
 },
 "nbformat": 4,
 "nbformat_minor": 4
}
