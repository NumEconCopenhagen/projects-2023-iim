{
 "cells": [
  {
   "attachments": {},
   "cell_type": "markdown",
   "metadata": {},
   "source": [
    "# How municipalities influence education level "
   ]
  },
  {
   "cell_type": "code",
   "execution_count": 1,
   "metadata": {},
   "outputs": [
    {
     "name": "stdout",
     "output_type": "stream",
     "text": [
      "Collecting git+https://github.com/elben10/pydst\n",
      "  Cloning https://github.com/elben10/pydst to /private/var/folders/6g/ztqdjshx67n8pkkmdc8z2c3w0000gp/T/pip-req-build-z70y6s2h\n",
      "  Running command git clone --quiet https://github.com/elben10/pydst /private/var/folders/6g/ztqdjshx67n8pkkmdc8z2c3w0000gp/T/pip-req-build-z70y6s2h\n",
      "  Resolved https://github.com/elben10/pydst to commit bb347560a1b3c17684fda072c829658da38f5a72\n",
      "  Preparing metadata (setup.py) ... \u001b[?25ldone\n",
      "\u001b[?25hRequirement already satisfied: pandas>=0.23.4 in /Users/apple/opt/anaconda3/lib/python3.9/site-packages (from pydst==0.1.0.9000) (1.4.4)\n",
      "Requirement already satisfied: cerberus==1.2 in /Users/apple/opt/anaconda3/lib/python3.9/site-packages (from pydst==0.1.0.9000) (1.2)\n",
      "Requirement already satisfied: requests>=2.21.0 in /Users/apple/opt/anaconda3/lib/python3.9/site-packages (from pydst==0.1.0.9000) (2.28.1)\n",
      "Requirement already satisfied: python-dateutil>=2.8.1 in /Users/apple/opt/anaconda3/lib/python3.9/site-packages (from pandas>=0.23.4->pydst==0.1.0.9000) (2.8.2)\n",
      "Requirement already satisfied: pytz>=2020.1 in /Users/apple/opt/anaconda3/lib/python3.9/site-packages (from pandas>=0.23.4->pydst==0.1.0.9000) (2022.1)\n",
      "Requirement already satisfied: numpy>=1.18.5 in /Users/apple/opt/anaconda3/lib/python3.9/site-packages (from pandas>=0.23.4->pydst==0.1.0.9000) (1.21.5)\n",
      "Requirement already satisfied: certifi>=2017.4.17 in /Users/apple/opt/anaconda3/lib/python3.9/site-packages (from requests>=2.21.0->pydst==0.1.0.9000) (2022.12.7)\n",
      "Requirement already satisfied: idna<4,>=2.5 in /Users/apple/opt/anaconda3/lib/python3.9/site-packages (from requests>=2.21.0->pydst==0.1.0.9000) (3.3)\n",
      "Requirement already satisfied: charset-normalizer<3,>=2 in /Users/apple/opt/anaconda3/lib/python3.9/site-packages (from requests>=2.21.0->pydst==0.1.0.9000) (2.0.4)\n",
      "Requirement already satisfied: urllib3<1.27,>=1.21.1 in /Users/apple/opt/anaconda3/lib/python3.9/site-packages (from requests>=2.21.0->pydst==0.1.0.9000) (1.26.11)\n",
      "Requirement already satisfied: six>=1.5 in /Users/apple/opt/anaconda3/lib/python3.9/site-packages (from python-dateutil>=2.8.1->pandas>=0.23.4->pydst==0.1.0.9000) (1.16.0)\n",
      "Note: you may need to restart the kernel to use updated packages.\n",
      "Requirement already satisfied: pandas-datareader in /Users/apple/opt/anaconda3/lib/python3.9/site-packages (0.10.0)\n",
      "Requirement already satisfied: lxml in /Users/apple/opt/anaconda3/lib/python3.9/site-packages (from pandas-datareader) (4.9.1)\n",
      "Requirement already satisfied: pandas>=0.23 in /Users/apple/opt/anaconda3/lib/python3.9/site-packages (from pandas-datareader) (1.4.4)\n",
      "Requirement already satisfied: requests>=2.19.0 in /Users/apple/opt/anaconda3/lib/python3.9/site-packages (from pandas-datareader) (2.28.1)\n",
      "Requirement already satisfied: python-dateutil>=2.8.1 in /Users/apple/opt/anaconda3/lib/python3.9/site-packages (from pandas>=0.23->pandas-datareader) (2.8.2)\n",
      "Requirement already satisfied: pytz>=2020.1 in /Users/apple/opt/anaconda3/lib/python3.9/site-packages (from pandas>=0.23->pandas-datareader) (2022.1)\n",
      "Requirement already satisfied: numpy>=1.18.5 in /Users/apple/opt/anaconda3/lib/python3.9/site-packages (from pandas>=0.23->pandas-datareader) (1.21.5)\n",
      "Requirement already satisfied: urllib3<1.27,>=1.21.1 in /Users/apple/opt/anaconda3/lib/python3.9/site-packages (from requests>=2.19.0->pandas-datareader) (1.26.11)\n",
      "Requirement already satisfied: idna<4,>=2.5 in /Users/apple/opt/anaconda3/lib/python3.9/site-packages (from requests>=2.19.0->pandas-datareader) (3.3)\n",
      "Requirement already satisfied: certifi>=2017.4.17 in /Users/apple/opt/anaconda3/lib/python3.9/site-packages (from requests>=2.19.0->pandas-datareader) (2022.12.7)\n",
      "Requirement already satisfied: charset-normalizer<3,>=2 in /Users/apple/opt/anaconda3/lib/python3.9/site-packages (from requests>=2.19.0->pandas-datareader) (2.0.4)\n",
      "Requirement already satisfied: six>=1.5 in /Users/apple/opt/anaconda3/lib/python3.9/site-packages (from python-dateutil>=2.8.1->pandas>=0.23->pandas-datareader) (1.16.0)\n",
      "Note: you may need to restart the kernel to use updated packages.\n"
     ]
    }
   ],
   "source": [
    "import pandas as pd\n",
    "import numpy as np\n",
    "import matplotlib.pyplot as plt\n",
    "import ipywidgets as widgets\n",
    "\n",
    "\n",
    "# autoreload modules when code is run\n",
    "%load_ext autoreload\n",
    "%autoreload 2\n",
    "\n",
    "# user written modules\n",
    "#import dataproject\n",
    "\n",
    "%pip install git+https://github.com/elben10/pydst\n",
    "%pip install pandas-datareader\n",
    "import pandas_datareader # install with `pip install pandas-datareader`\n",
    "import pydst # install with `pip install git+https://github.com/elben10/pydst`"
   ]
  },
  {
   "cell_type": "markdown",
   "metadata": {},
   "source": [
    "# Read and clean data"
   ]
  },
  {
   "cell_type": "markdown",
   "metadata": {},
   "source": [
    "Import your data, either through an API or manually, and load it. "
   ]
  },
  {
   "cell_type": "code",
   "execution_count": 2,
   "metadata": {},
   "outputs": [
    {
     "name": "stdout",
     "output_type": "stream",
     "text": [
      "<class 'pandas.core.frame.DataFrame'>\n"
     ]
    }
   ],
   "source": [
    "Dst = pydst.Dst(lang='en') # setup data loader with the langauge 'english'\n",
    "import matplotlib.pyplot as plt\n",
    "plt.rcParams.update({\"axes.grid\":True,\"grid.color\":\"black\",\"grid.alpha\":\"0.25\",\"grid.linestyle\":\"--\"})\n",
    "plt.rcParams.update({'font.size': 14})\n",
    "tables = Dst.get_tables(subjects=['2'])\n",
    "print(type(tables))"
   ]
  },
  {
   "cell_type": "code",
   "execution_count": 3,
   "metadata": {},
   "outputs": [
    {
     "name": "stdout",
     "output_type": "stream",
     "text": [
      "<class 'pydst.pydst.Dst'>\n"
     ]
    }
   ],
   "source": [
    "Dst = pydst.Dst(lang='en') # setup data loader with the langauge 'english'\n",
    "# What is the Dst variable?\n",
    "print(type(Dst))\n",
    "Dst.get_subjects()\n",
    "tables = Dst.get_tables(subjects=['4'])\n",
    "#print(type(tables))\n",
    "#display(tables)\n",
    "tables[tables.id == 'BY2']\n",
    "indk_vars = Dst.get_variables(table_id='BY2')"
   ]
  },
  {
   "cell_type": "code",
   "execution_count": 4,
   "metadata": {},
   "outputs": [
    {
     "data": {
      "text/html": [
       "<div>\n",
       "<style scoped>\n",
       "    .dataframe tbody tr th:only-of-type {\n",
       "        vertical-align: middle;\n",
       "    }\n",
       "\n",
       "    .dataframe tbody tr th {\n",
       "        vertical-align: top;\n",
       "    }\n",
       "\n",
       "    .dataframe thead th {\n",
       "        text-align: right;\n",
       "    }\n",
       "</style>\n",
       "<table border=\"1\" class=\"dataframe\">\n",
       "  <thead>\n",
       "    <tr style=\"text-align: right;\">\n",
       "      <th></th>\n",
       "      <th>KOMK</th>\n",
       "      <th>ALDER</th>\n",
       "      <th>TID</th>\n",
       "      <th>KØN</th>\n",
       "      <th>BYST</th>\n",
       "      <th>INDHOLD</th>\n",
       "    </tr>\n",
       "  </thead>\n",
       "  <tbody>\n",
       "    <tr>\n",
       "      <th>206</th>\n",
       "      <td>Gribskov</td>\n",
       "      <td>1.0</td>\n",
       "      <td>2022</td>\n",
       "      <td>Women</td>\n",
       "      <td>250-499 inhabitants</td>\n",
       "      <td>8</td>\n",
       "    </tr>\n",
       "    <tr>\n",
       "      <th>207</th>\n",
       "      <td>Gribskov</td>\n",
       "      <td>10.0</td>\n",
       "      <td>2022</td>\n",
       "      <td>Men</td>\n",
       "      <td>250-499 inhabitants</td>\n",
       "      <td>8</td>\n",
       "    </tr>\n",
       "    <tr>\n",
       "      <th>208</th>\n",
       "      <td>Gribskov</td>\n",
       "      <td>10.0</td>\n",
       "      <td>2022</td>\n",
       "      <td>Women</td>\n",
       "      <td>250-499 inhabitants</td>\n",
       "      <td>12</td>\n",
       "    </tr>\n",
       "    <tr>\n",
       "      <th>209</th>\n",
       "      <td>Gribskov</td>\n",
       "      <td>11.0</td>\n",
       "      <td>2022</td>\n",
       "      <td>Men</td>\n",
       "      <td>250-499 inhabitants</td>\n",
       "      <td>16</td>\n",
       "    </tr>\n",
       "    <tr>\n",
       "      <th>210</th>\n",
       "      <td>Gribskov</td>\n",
       "      <td>11.0</td>\n",
       "      <td>2022</td>\n",
       "      <td>Women</td>\n",
       "      <td>250-499 inhabitants</td>\n",
       "      <td>14</td>\n",
       "    </tr>\n",
       "    <tr>\n",
       "      <th>...</th>\n",
       "      <td>...</td>\n",
       "      <td>...</td>\n",
       "      <td>...</td>\n",
       "      <td>...</td>\n",
       "      <td>...</td>\n",
       "      <td>...</td>\n",
       "    </tr>\n",
       "    <tr>\n",
       "      <th>127325</th>\n",
       "      <td>Nordfyns</td>\n",
       "      <td>32.0</td>\n",
       "      <td>2022</td>\n",
       "      <td>Women</td>\n",
       "      <td>250-499 inhabitants</td>\n",
       "      <td>13</td>\n",
       "    </tr>\n",
       "    <tr>\n",
       "      <th>127326</th>\n",
       "      <td>Nordfyns</td>\n",
       "      <td>33.0</td>\n",
       "      <td>2022</td>\n",
       "      <td>Men</td>\n",
       "      <td>250-499 inhabitants</td>\n",
       "      <td>10</td>\n",
       "    </tr>\n",
       "    <tr>\n",
       "      <th>127327</th>\n",
       "      <td>Nordfyns</td>\n",
       "      <td>33.0</td>\n",
       "      <td>2022</td>\n",
       "      <td>Women</td>\n",
       "      <td>250-499 inhabitants</td>\n",
       "      <td>9</td>\n",
       "    </tr>\n",
       "    <tr>\n",
       "      <th>127328</th>\n",
       "      <td>Nordfyns</td>\n",
       "      <td>34.0</td>\n",
       "      <td>2022</td>\n",
       "      <td>Men</td>\n",
       "      <td>250-499 inhabitants</td>\n",
       "      <td>10</td>\n",
       "    </tr>\n",
       "    <tr>\n",
       "      <th>127329</th>\n",
       "      <td>Nordfyns</td>\n",
       "      <td>34.0</td>\n",
       "      <td>2022</td>\n",
       "      <td>Women</td>\n",
       "      <td>250-499 inhabitants</td>\n",
       "      <td>9</td>\n",
       "    </tr>\n",
       "  </tbody>\n",
       "</table>\n",
       "<p>81154 rows × 6 columns</p>\n",
       "</div>"
      ],
      "text/plain": [
       "            KOMK  ALDER   TID    KØN                 BYST  INDHOLD\n",
       "206     Gribskov    1.0  2022  Women  250-499 inhabitants        8\n",
       "207     Gribskov   10.0  2022    Men  250-499 inhabitants        8\n",
       "208     Gribskov   10.0  2022  Women  250-499 inhabitants       12\n",
       "209     Gribskov   11.0  2022    Men  250-499 inhabitants       16\n",
       "210     Gribskov   11.0  2022  Women  250-499 inhabitants       14\n",
       "...          ...    ...   ...    ...                  ...      ...\n",
       "127325  Nordfyns   32.0  2022  Women  250-499 inhabitants       13\n",
       "127326  Nordfyns   33.0  2022    Men  250-499 inhabitants       10\n",
       "127327  Nordfyns   33.0  2022  Women  250-499 inhabitants        9\n",
       "127328  Nordfyns   34.0  2022    Men  250-499 inhabitants       10\n",
       "127329  Nordfyns   34.0  2022  Women  250-499 inhabitants        9\n",
       "\n",
       "[81154 rows x 6 columns]"
      ]
     },
     "execution_count": 4,
     "metadata": {},
     "output_type": "execute_result"
    }
   ],
   "source": [
    "variables = {'KOMK':['*'], 'ALDER':['*'], 'TID':[\"2022\"], 'KØN':['*'],'BYST':[\"*\"]}\n",
    "df = Dst.get_data(table_id = 'BY2', variables=variables)\n",
    "##lav alder til 1 tal, omdan til integer eller float , nogen forskel??\n",
    "df['ALDER'] = df['ALDER'].map(lambda x: x.rstrip(' years')) \n",
    "df['ALDER'] = df['ALDER'].astype('float64')\n",
    "df.drop(df[df['TID'] != 2022].index, inplace = True)\n",
    "df.drop(df[df['ALDER'] > 69.001].index, inplace = True)\n",
    "df"
   ]
  },
  {
   "cell_type": "code",
   "execution_count": 5,
   "metadata": {},
   "outputs": [
    {
     "ename": "SyntaxError",
     "evalue": "invalid syntax (1965808708.py, line 1)",
     "output_type": "error",
     "traceback": [
      "\u001b[0;36m  Input \u001b[0;32mIn [5]\u001b[0;36m\u001b[0m\n\u001b[0;31m    IKKE KØR\u001b[0m\n\u001b[0m         ^\u001b[0m\n\u001b[0;31mSyntaxError\u001b[0m\u001b[0;31m:\u001b[0m invalid syntax\n"
     ]
    }
   ],
   "source": [
    "IKKE KØR\n",
    "##lav aldersgruppevariabel\n",
    "df.loc[df['ALDER']<=15, 'ALDERSGRUPPE'] = 'u15'\n",
    "df.loc[df['ALDER'].between(15,19), 'ALDERSGRUPPE'] = '1519'\n",
    "df.loc[df['ALDER'].between(20,29), 'ALDERSGRUPPE'] = '2029'\n",
    "df.loc[df['ALDER'].between(30,39), 'ALDERSGRUPPE'] = '3039'\n",
    "df.loc[df['ALDER'].between(40,49), 'ALDERSGRUPPE'] = '4049'\n",
    "df.loc[df['ALDER'].between(50,59), 'ALDERSGRUPPE'] = '5059'\n",
    "df.loc[df['ALDER'].between(60,69), 'ALDERSGRUPPE'] = '6069'\n",
    "#df[\"ALDERSGRUPPE\"] = \n",
    "#df['tot_alder'] = df.groupby([\"TID\", 'KOMK', 'ALDER'])['INDHOLD'].transform('sum')\n",
    "df\n",
    "##duplicates drop, drop unødvendige variable, drophvor tid != 2022. Inddel i aldersgrupper\n",
    "\n",
    "##bysort\n",
    "df['tot_koen'] = df.groupby([\"TID\", 'KOMK', 'ALDER'])['INDHOLD'].transform('sum')\n",
    "df['tot_aldersgruppe'] = df.groupby([\"TID\", 'KOMK', 'ALDERSGRUPPE'])['INDHOLD'].transform('sum')\n",
    "df\n",
    "#Dropper duplicates"
   ]
  },
  {
   "cell_type": "code",
   "execution_count": 6,
   "metadata": {},
   "outputs": [
    {
     "data": {
      "text/html": [
       "<div>\n",
       "<style scoped>\n",
       "    .dataframe tbody tr th:only-of-type {\n",
       "        vertical-align: middle;\n",
       "    }\n",
       "\n",
       "    .dataframe tbody tr th {\n",
       "        vertical-align: top;\n",
       "    }\n",
       "\n",
       "    .dataframe thead th {\n",
       "        text-align: right;\n",
       "    }\n",
       "</style>\n",
       "<table border=\"1\" class=\"dataframe\">\n",
       "  <thead>\n",
       "    <tr style=\"text-align: right;\">\n",
       "      <th></th>\n",
       "      <th>KOMK</th>\n",
       "      <th>ALDER</th>\n",
       "      <th>TID</th>\n",
       "      <th>KØN</th>\n",
       "      <th>BYST</th>\n",
       "      <th>INDHOLD</th>\n",
       "      <th>ALDERSGRUPPE</th>\n",
       "      <th>tot_koen</th>\n",
       "      <th>tot_aldersgruppe</th>\n",
       "    </tr>\n",
       "  </thead>\n",
       "  <tbody>\n",
       "    <tr>\n",
       "      <th>239</th>\n",
       "      <td>Gribskov</td>\n",
       "      <td>25.0</td>\n",
       "      <td>2022</td>\n",
       "      <td>Men</td>\n",
       "      <td>250-499 inhabitants</td>\n",
       "      <td>4</td>\n",
       "      <td>25-39</td>\n",
       "      <td>270</td>\n",
       "      <td>4970</td>\n",
       "    </tr>\n",
       "    <tr>\n",
       "      <th>240</th>\n",
       "      <td>Gribskov</td>\n",
       "      <td>25.0</td>\n",
       "      <td>2022</td>\n",
       "      <td>Women</td>\n",
       "      <td>250-499 inhabitants</td>\n",
       "      <td>7</td>\n",
       "      <td>25-39</td>\n",
       "      <td>270</td>\n",
       "      <td>4970</td>\n",
       "    </tr>\n",
       "    <tr>\n",
       "      <th>241</th>\n",
       "      <td>Gribskov</td>\n",
       "      <td>26.0</td>\n",
       "      <td>2022</td>\n",
       "      <td>Men</td>\n",
       "      <td>250-499 inhabitants</td>\n",
       "      <td>8</td>\n",
       "      <td>25-39</td>\n",
       "      <td>252</td>\n",
       "      <td>4970</td>\n",
       "    </tr>\n",
       "    <tr>\n",
       "      <th>242</th>\n",
       "      <td>Gribskov</td>\n",
       "      <td>26.0</td>\n",
       "      <td>2022</td>\n",
       "      <td>Women</td>\n",
       "      <td>250-499 inhabitants</td>\n",
       "      <td>1</td>\n",
       "      <td>25-39</td>\n",
       "      <td>252</td>\n",
       "      <td>4970</td>\n",
       "    </tr>\n",
       "    <tr>\n",
       "      <th>243</th>\n",
       "      <td>Gribskov</td>\n",
       "      <td>27.0</td>\n",
       "      <td>2022</td>\n",
       "      <td>Men</td>\n",
       "      <td>250-499 inhabitants</td>\n",
       "      <td>6</td>\n",
       "      <td>25-39</td>\n",
       "      <td>276</td>\n",
       "      <td>4970</td>\n",
       "    </tr>\n",
       "    <tr>\n",
       "      <th>...</th>\n",
       "      <td>...</td>\n",
       "      <td>...</td>\n",
       "      <td>...</td>\n",
       "      <td>...</td>\n",
       "      <td>...</td>\n",
       "      <td>...</td>\n",
       "      <td>...</td>\n",
       "      <td>...</td>\n",
       "      <td>...</td>\n",
       "    </tr>\n",
       "    <tr>\n",
       "      <th>127325</th>\n",
       "      <td>Nordfyns</td>\n",
       "      <td>32.0</td>\n",
       "      <td>2022</td>\n",
       "      <td>Women</td>\n",
       "      <td>250-499 inhabitants</td>\n",
       "      <td>13</td>\n",
       "      <td>25-39</td>\n",
       "      <td>281</td>\n",
       "      <td>4297</td>\n",
       "    </tr>\n",
       "    <tr>\n",
       "      <th>127326</th>\n",
       "      <td>Nordfyns</td>\n",
       "      <td>33.0</td>\n",
       "      <td>2022</td>\n",
       "      <td>Men</td>\n",
       "      <td>250-499 inhabitants</td>\n",
       "      <td>10</td>\n",
       "      <td>25-39</td>\n",
       "      <td>269</td>\n",
       "      <td>4297</td>\n",
       "    </tr>\n",
       "    <tr>\n",
       "      <th>127327</th>\n",
       "      <td>Nordfyns</td>\n",
       "      <td>33.0</td>\n",
       "      <td>2022</td>\n",
       "      <td>Women</td>\n",
       "      <td>250-499 inhabitants</td>\n",
       "      <td>9</td>\n",
       "      <td>25-39</td>\n",
       "      <td>269</td>\n",
       "      <td>4297</td>\n",
       "    </tr>\n",
       "    <tr>\n",
       "      <th>127328</th>\n",
       "      <td>Nordfyns</td>\n",
       "      <td>34.0</td>\n",
       "      <td>2022</td>\n",
       "      <td>Men</td>\n",
       "      <td>250-499 inhabitants</td>\n",
       "      <td>10</td>\n",
       "      <td>25-39</td>\n",
       "      <td>289</td>\n",
       "      <td>4297</td>\n",
       "    </tr>\n",
       "    <tr>\n",
       "      <th>127329</th>\n",
       "      <td>Nordfyns</td>\n",
       "      <td>34.0</td>\n",
       "      <td>2022</td>\n",
       "      <td>Women</td>\n",
       "      <td>250-499 inhabitants</td>\n",
       "      <td>9</td>\n",
       "      <td>25-39</td>\n",
       "      <td>289</td>\n",
       "      <td>4297</td>\n",
       "    </tr>\n",
       "  </tbody>\n",
       "</table>\n",
       "<p>17659 rows × 9 columns</p>\n",
       "</div>"
      ],
      "text/plain": [
       "            KOMK  ALDER   TID    KØN                 BYST  INDHOLD  \\\n",
       "239     Gribskov   25.0  2022    Men  250-499 inhabitants        4   \n",
       "240     Gribskov   25.0  2022  Women  250-499 inhabitants        7   \n",
       "241     Gribskov   26.0  2022    Men  250-499 inhabitants        8   \n",
       "242     Gribskov   26.0  2022  Women  250-499 inhabitants        1   \n",
       "243     Gribskov   27.0  2022    Men  250-499 inhabitants        6   \n",
       "...          ...    ...   ...    ...                  ...      ...   \n",
       "127325  Nordfyns   32.0  2022  Women  250-499 inhabitants       13   \n",
       "127326  Nordfyns   33.0  2022    Men  250-499 inhabitants       10   \n",
       "127327  Nordfyns   33.0  2022  Women  250-499 inhabitants        9   \n",
       "127328  Nordfyns   34.0  2022    Men  250-499 inhabitants       10   \n",
       "127329  Nordfyns   34.0  2022  Women  250-499 inhabitants        9   \n",
       "\n",
       "       ALDERSGRUPPE  tot_koen  tot_aldersgruppe  \n",
       "239           25-39       270              4970  \n",
       "240           25-39       270              4970  \n",
       "241           25-39       252              4970  \n",
       "242           25-39       252              4970  \n",
       "243           25-39       276              4970  \n",
       "...             ...       ...               ...  \n",
       "127325        25-39       281              4297  \n",
       "127326        25-39       269              4297  \n",
       "127327        25-39       269              4297  \n",
       "127328        25-39       289              4297  \n",
       "127329        25-39       289              4297  \n",
       "\n",
       "[17659 rows x 9 columns]"
      ]
     },
     "execution_count": 6,
     "metadata": {},
     "output_type": "execute_result"
    }
   ],
   "source": [
    "df\n",
    "df.loc[df['ALDER'].between(25,39), 'ALDERSGRUPPE'] = '25-39'\n",
    "df.drop(df[df['ALDERSGRUPPE'] != \"25-39\"].index, inplace = True)\n",
    "##duplicates drop, drop unødvendige variable, drophvor tid != 2022. Inddel i aldersgrupper\n",
    "\n",
    "##bysort\n",
    "df['tot_koen'] = df.groupby([\"TID\", 'KOMK', 'ALDER'])['INDHOLD'].transform('sum')\n",
    "df['tot_aldersgruppe'] = df.groupby([\"TID\", 'KOMK', 'ALDERSGRUPPE'])['INDHOLD'].transform('sum')\n",
    "df\n",
    "#Dropper duplicates"
   ]
  },
  {
   "cell_type": "code",
   "execution_count": 7,
   "metadata": {},
   "outputs": [
    {
     "name": "stderr",
     "output_type": "stream",
     "text": [
      "/var/folders/6g/ztqdjshx67n8pkkmdc8z2c3w0000gp/T/ipykernel_1343/923654993.py:3: SettingWithCopyWarning: \n",
      "A value is trying to be set on a copy of a slice from a DataFrame\n",
      "\n",
      "See the caveats in the documentation: https://pandas.pydata.org/pandas-docs/stable/user_guide/indexing.html#returning-a-view-versus-a-copy\n",
      "  df1.drop(columns=['ALDER', 'KØN', 'BYST', 'INDHOLD', 'tot_koen', 'TID'], inplace = True)\n"
     ]
    },
    {
     "data": {
      "text/html": [
       "<div>\n",
       "<style scoped>\n",
       "    .dataframe tbody tr th:only-of-type {\n",
       "        vertical-align: middle;\n",
       "    }\n",
       "\n",
       "    .dataframe tbody tr th {\n",
       "        vertical-align: top;\n",
       "    }\n",
       "\n",
       "    .dataframe thead th {\n",
       "        text-align: right;\n",
       "    }\n",
       "</style>\n",
       "<table border=\"1\" class=\"dataframe\">\n",
       "  <thead>\n",
       "    <tr style=\"text-align: right;\">\n",
       "      <th></th>\n",
       "      <th>KOMK</th>\n",
       "      <th>ALDERSGRUPPE</th>\n",
       "      <th>tot_aldersgruppe</th>\n",
       "    </tr>\n",
       "  </thead>\n",
       "  <tbody>\n",
       "    <tr>\n",
       "      <th>239</th>\n",
       "      <td>Gribskov</td>\n",
       "      <td>25-39</td>\n",
       "      <td>4970</td>\n",
       "    </tr>\n",
       "    <tr>\n",
       "      <th>808</th>\n",
       "      <td>Gentofte</td>\n",
       "      <td>25-39</td>\n",
       "      <td>10419</td>\n",
       "    </tr>\n",
       "    <tr>\n",
       "      <th>1012</th>\n",
       "      <td>Gladsaxe</td>\n",
       "      <td>25-39</td>\n",
       "      <td>13649</td>\n",
       "    </tr>\n",
       "    <tr>\n",
       "      <th>1100</th>\n",
       "      <td>Fredensborg</td>\n",
       "      <td>25-39</td>\n",
       "      <td>5760</td>\n",
       "    </tr>\n",
       "    <tr>\n",
       "      <th>1679</th>\n",
       "      <td>Frederikssund</td>\n",
       "      <td>25-39</td>\n",
       "      <td>6338</td>\n",
       "    </tr>\n",
       "    <tr>\n",
       "      <th>...</th>\n",
       "      <td>...</td>\n",
       "      <td>...</td>\n",
       "      <td>...</td>\n",
       "    </tr>\n",
       "    <tr>\n",
       "      <th>116901</th>\n",
       "      <td>Lolland</td>\n",
       "      <td>25-39</td>\n",
       "      <td>5217</td>\n",
       "    </tr>\n",
       "    <tr>\n",
       "      <th>119758</th>\n",
       "      <td>Svendborg</td>\n",
       "      <td>25-39</td>\n",
       "      <td>9117</td>\n",
       "    </tr>\n",
       "    <tr>\n",
       "      <th>120295</th>\n",
       "      <td>Ringsted</td>\n",
       "      <td>25-39</td>\n",
       "      <td>6291</td>\n",
       "    </tr>\n",
       "    <tr>\n",
       "      <th>121210</th>\n",
       "      <td>Christiansø</td>\n",
       "      <td>25-39</td>\n",
       "      <td>10</td>\n",
       "    </tr>\n",
       "    <tr>\n",
       "      <th>121303</th>\n",
       "      <td>Assens</td>\n",
       "      <td>25-39</td>\n",
       "      <td>5948</td>\n",
       "    </tr>\n",
       "  </tbody>\n",
       "</table>\n",
       "<p>99 rows × 3 columns</p>\n",
       "</div>"
      ],
      "text/plain": [
       "                 KOMK ALDERSGRUPPE  tot_aldersgruppe\n",
       "239          Gribskov        25-39              4970\n",
       "808          Gentofte        25-39             10419\n",
       "1012         Gladsaxe        25-39             13649\n",
       "1100      Fredensborg        25-39              5760\n",
       "1679    Frederikssund        25-39              6338\n",
       "...               ...          ...               ...\n",
       "116901        Lolland        25-39              5217\n",
       "119758      Svendborg        25-39              9117\n",
       "120295       Ringsted        25-39              6291\n",
       "121210    Christiansø        25-39                10\n",
       "121303         Assens        25-39              5948\n",
       "\n",
       "[99 rows x 3 columns]"
      ]
     },
     "execution_count": 7,
     "metadata": {},
     "output_type": "execute_result"
    }
   ],
   "source": [
    "df1 = df.drop_duplicates(subset=(\"KOMK\"))\n",
    "\n",
    "df1.drop(columns=['ALDER', 'KØN', 'BYST', 'INDHOLD', 'tot_koen', 'TID'], inplace = True)\n",
    "df1"
   ]
  },
  {
   "attachments": {},
   "cell_type": "markdown",
   "metadata": {},
   "source": [
    "Import your data, either through an API or manually, and load it. "
   ]
  },
  {
   "cell_type": "code",
   "execution_count": 8,
   "metadata": {},
   "outputs": [],
   "source": [
    "#variables = {'BOPOMR':['*'], 'ALDER':['*'], 'TID':[\"2022\"], 'HFUDD':['*'],'INDHOLD':['*']}\n",
    "variables = {'BOPOMR':['*'], 'ALDER':['*'], 'HFUDD':['*'], 'TID':[\"2022\"]}\n",
    "df_hf = Dst.get_data(table_id = 'HFUDD11', variables = variables)\n",
    "df_hf\n",
    "#df.loc[df['ALDER']==, 'ALDERSGRUPPE'] = 'u15'\n",
    "df_hf.rename(columns={'BOPOMR': 'KOMK', 'ALDER': 'ALDERSGRUPPE'}, inplace=True)\n",
    "# drop years tekst fra alder\n",
    "df_hf['ALDERSGRUPPE'] = df_hf['ALDERSGRUPPE'].map(lambda x: x.rstrip(' years')) \n",
    "# drop observationer der ikke er 2022\n",
    "df_hf.drop(df_hf[df_hf['TID'] != 2022].index, inplace = True)\n",
    "# drop kolonner vi ikke ønsker\n",
    "df_hf.drop(columns=['HERKOMST', 'KØN', 'TID'], inplace=True)\n",
    "#beholder 1 aldersgruppe 25-39 år\n",
    "#df_hf.drop(df_hf[df_hf['ALDERSGRUPPE'] != \"25-29\"].index, inplace = True)\n",
    "##lav ny variabel som er 1 hvis det er i aldersgruppen\n",
    "df_hf.loc[df_hf['ALDERSGRUPPE'] == \"25-29\", 'TJEK'] = 1\n",
    "df_hf.loc[df_hf['ALDERSGRUPPE'] == \"30-34\", 'TJEK'] = 1\n",
    "df_hf.loc[df_hf['ALDERSGRUPPE'] == \"35-39\", 'TJEK'] = 1\n",
    "#drop hvis tjek != 1, og drop variabel tjek\n",
    "\n",
    "df_hf.drop(df_hf[df_hf['TJEK'] != 1].index, inplace = True)\n",
    "df_hf.drop(columns=['TJEK'], inplace=True)\n",
    "#df_hf = df_hf.drop(df_hf[ (df_hf['ALDERSGRUPPE'] != 25-29) & (df_hf['ALDERSGRUPPE'] != 30-34)].index, inplace = True)\n",
    "#summer over aldersgrupperne\n",
    "df_hf['tot_aldersgruppe'] = df_hf.groupby(['KOMK', \"HFUDD\"])['INDHOLD'].transform('sum')\n",
    "\n",
    "##gemmer kun nogle uddannelser\n",
    "\n",
    "df_hf.loc[df_hf['HFUDD'] == \"H10 Primary education\", 'UDDANNELSE'] = \"Primary education\"\n",
    "#df_hf.loc[df_hf['HFUDD'] == \"H20 Upper secondary education\", 'UDDANNELSE'] = \"use\"\n",
    "df_hf.loc[df_hf['HFUDD'] == \"H30 Vocational Education and Training (VET)\", 'UDDANNELSE'] = \"VET\"\n",
    "#df_hf.loc[df_hf['HFUDD'] == \"H35 Qualifying educational programs\", 'UDDANNELSE'] = \"qep\"\n",
    "df_hf.loc[df_hf['HFUDD'] == \"H40 Short cycle higher education\", 'UDDANNELSE'] = \"Higher education\"\n",
    "df_hf.loc[df_hf['HFUDD'] == \"H50 Vocational bachelors educations\", 'UDDANNELSE'] = \"Higher education\"\n",
    "df_hf.loc[df_hf['HFUDD'] == \"H60 Bachelors programs\", 'UDDANNELSE'] = \"Higher education\"\n",
    "df_hf.loc[df_hf['HFUDD'] == \"H70 Masters programs\", 'UDDANNELSE'] = \"Higher education\"\n",
    "df_hf.loc[df_hf['HFUDD'] == \"H80 PhD programs\", 'UDDANNELSE'] = \"Higher education\"\n"
   ]
  },
  {
   "cell_type": "code",
   "execution_count": 9,
   "metadata": {},
   "outputs": [
    {
     "data": {
      "text/html": [
       "<div>\n",
       "<style scoped>\n",
       "    .dataframe tbody tr th:only-of-type {\n",
       "        vertical-align: middle;\n",
       "    }\n",
       "\n",
       "    .dataframe tbody tr th {\n",
       "        vertical-align: top;\n",
       "    }\n",
       "\n",
       "    .dataframe thead th {\n",
       "        text-align: right;\n",
       "    }\n",
       "</style>\n",
       "<table border=\"1\" class=\"dataframe\">\n",
       "  <thead>\n",
       "    <tr style=\"text-align: right;\">\n",
       "      <th></th>\n",
       "      <th>KOMK</th>\n",
       "      <th>UDDANNELSE</th>\n",
       "      <th>total_in_education</th>\n",
       "    </tr>\n",
       "  </thead>\n",
       "  <tbody>\n",
       "    <tr>\n",
       "      <th>81671</th>\n",
       "      <td>All Denmark</td>\n",
       "      <td>Primary education</td>\n",
       "      <td>161520</td>\n",
       "    </tr>\n",
       "    <tr>\n",
       "      <th>81779</th>\n",
       "      <td>All Denmark</td>\n",
       "      <td>VET</td>\n",
       "      <td>271333</td>\n",
       "    </tr>\n",
       "    <tr>\n",
       "      <th>82002</th>\n",
       "      <td>All Denmark</td>\n",
       "      <td>Higher education</td>\n",
       "      <td>598418</td>\n",
       "    </tr>\n",
       "    <tr>\n",
       "      <th>82692</th>\n",
       "      <td>Region Nordjylland</td>\n",
       "      <td>Primary education</td>\n",
       "      <td>17061</td>\n",
       "    </tr>\n",
       "    <tr>\n",
       "      <th>82800</th>\n",
       "      <td>Region Nordjylland</td>\n",
       "      <td>VET</td>\n",
       "      <td>32217</td>\n",
       "    </tr>\n",
       "    <tr>\n",
       "      <th>...</th>\n",
       "      <td>...</td>\n",
       "      <td>...</td>\n",
       "      <td>...</td>\n",
       "    </tr>\n",
       "    <tr>\n",
       "      <th>166161</th>\n",
       "      <td>Aalborg</td>\n",
       "      <td>VET</td>\n",
       "      <td>10532</td>\n",
       "    </tr>\n",
       "    <tr>\n",
       "      <th>166366</th>\n",
       "      <td>Aalborg</td>\n",
       "      <td>Higher education</td>\n",
       "      <td>28166</td>\n",
       "    </tr>\n",
       "    <tr>\n",
       "      <th>166986</th>\n",
       "      <td>Hjørring</td>\n",
       "      <td>Primary education</td>\n",
       "      <td>1965</td>\n",
       "    </tr>\n",
       "    <tr>\n",
       "      <th>167093</th>\n",
       "      <td>Hjørring</td>\n",
       "      <td>VET</td>\n",
       "      <td>3694</td>\n",
       "    </tr>\n",
       "    <tr>\n",
       "      <th>167293</th>\n",
       "      <td>Hjørring</td>\n",
       "      <td>Higher education</td>\n",
       "      <td>3390</td>\n",
       "    </tr>\n",
       "  </tbody>\n",
       "</table>\n",
       "<p>314 rows × 3 columns</p>\n",
       "</div>"
      ],
      "text/plain": [
       "                      KOMK         UDDANNELSE  total_in_education\n",
       "81671          All Denmark  Primary education              161520\n",
       "81779          All Denmark                VET              271333\n",
       "82002          All Denmark   Higher education              598418\n",
       "82692   Region Nordjylland  Primary education               17061\n",
       "82800   Region Nordjylland                VET               32217\n",
       "...                    ...                ...                 ...\n",
       "166161             Aalborg                VET               10532\n",
       "166366             Aalborg   Higher education               28166\n",
       "166986            Hjørring  Primary education                1965\n",
       "167093            Hjørring                VET                3694\n",
       "167293            Hjørring   Higher education                3390\n",
       "\n",
       "[314 rows x 3 columns]"
      ]
     },
     "execution_count": 9,
     "metadata": {},
     "output_type": "execute_result"
    }
   ],
   "source": [
    "#drop hvis uddannelse har nan værdi\n",
    "df_hf2 = df_hf.dropna(subset=[\"UDDANNELSE\"])\n",
    "df_hf2 = df_hf2.drop_duplicates(subset=(\"KOMK\", \"HFUDD\"))\n",
    "##læg sammen over uddannelser\n",
    "df_hf2['total_in_education'] = df_hf2.groupby([\"KOMK\", 'UDDANNELSE'])['tot_aldersgruppe'].transform('sum')\n",
    "#drop duplicates komk og uddannelse\n",
    "df_hf2 = df_hf2.drop_duplicates(subset=(\"KOMK\", \"UDDANNELSE\"))\n",
    "#drop variable\n",
    "df_hf2.drop(columns=['ALDERSGRUPPE', 'HFUDD', 'INDHOLD', 'tot_aldersgruppe'], inplace=True)\n",
    "\n",
    "df_hf2"
   ]
  },
  {
   "cell_type": "markdown",
   "metadata": {},
   "source": [
    "## Explore each data set"
   ]
  },
  {
   "cell_type": "markdown",
   "metadata": {},
   "source": [
    "In order to be able to **explore the raw data**, you may provide **static** and **interactive plots** to show important developments "
   ]
  },
  {
   "cell_type": "markdown",
   "metadata": {},
   "source": [
    "**Interactive plot** :"
   ]
  },
  {
   "cell_type": "code",
   "execution_count": 10,
   "metadata": {},
   "outputs": [
    {
     "data": {
      "application/vnd.jupyter.widget-view+json": {
       "model_id": "1a781ece830843e19ddf6610b8e2f615",
       "version_major": 2,
       "version_minor": 0
      },
      "text/plain": [
       "interactive(children=(Output(),), _dom_classes=('widget-interact',))"
      ]
     },
     "metadata": {},
     "output_type": "display_data"
    }
   ],
   "source": [
    "def plot_func():\n",
    "    # Function that operates on data set\n",
    "    pass\n",
    "\n",
    "widgets.interact(plot_func, \n",
    "    # Let the widget interact with data through plot_func()    \n",
    "); \n"
   ]
  },
  {
   "cell_type": "markdown",
   "metadata": {},
   "source": [
    "Explain what you see when moving elements of the interactive plot around. "
   ]
  },
  {
   "cell_type": "markdown",
   "metadata": {},
   "source": [
    "# Merge data sets"
   ]
  },
  {
   "cell_type": "markdown",
   "metadata": {},
   "source": [
    "Now you create combinations of your loaded data sets. Remember the illustration of a (inner) **merge**:"
   ]
  },
  {
   "cell_type": "code",
   "execution_count": 11,
   "metadata": {},
   "outputs": [
    {
     "data": {
      "text/plain": [
       "Index(['KOMK', 'ALDERSGRUPPE', 'tot_aldersgruppe'], dtype='object')"
      ]
     },
     "execution_count": 11,
     "metadata": {},
     "output_type": "execute_result"
    }
   ],
   "source": [
    "df1.columns"
   ]
  },
  {
   "cell_type": "code",
   "execution_count": 12,
   "metadata": {},
   "outputs": [
    {
     "data": {
      "text/plain": [
       "Index(['KOMK', 'UDDANNELSE', 'total_in_education'], dtype='object')"
      ]
     },
     "execution_count": 12,
     "metadata": {},
     "output_type": "execute_result"
    }
   ],
   "source": [
    "df_hf2.columns"
   ]
  },
  {
   "cell_type": "code",
   "execution_count": 13,
   "metadata": {},
   "outputs": [
    {
     "data": {
      "text/html": [
       "<div>\n",
       "<style scoped>\n",
       "    .dataframe tbody tr th:only-of-type {\n",
       "        vertical-align: middle;\n",
       "    }\n",
       "\n",
       "    .dataframe tbody tr th {\n",
       "        vertical-align: top;\n",
       "    }\n",
       "\n",
       "    .dataframe thead th {\n",
       "        text-align: right;\n",
       "    }\n",
       "</style>\n",
       "<table border=\"1\" class=\"dataframe\">\n",
       "  <thead>\n",
       "    <tr style=\"text-align: right;\">\n",
       "      <th></th>\n",
       "      <th>KOMK</th>\n",
       "      <th>ALDERSGRUPPE</th>\n",
       "      <th>tot_aldersgruppe</th>\n",
       "      <th>UDDANNELSE</th>\n",
       "      <th>total_in_education</th>\n",
       "      <th>ratio_in_education</th>\n",
       "    </tr>\n",
       "  </thead>\n",
       "  <tbody>\n",
       "    <tr>\n",
       "      <th>286</th>\n",
       "      <td>Svendborg</td>\n",
       "      <td>25-39</td>\n",
       "      <td>9117</td>\n",
       "      <td>VET</td>\n",
       "      <td>2654</td>\n",
       "      <td>29.110453</td>\n",
       "    </tr>\n",
       "    <tr>\n",
       "      <th>287</th>\n",
       "      <td>Svendborg</td>\n",
       "      <td>25-39</td>\n",
       "      <td>9117</td>\n",
       "      <td>Higher education</td>\n",
       "      <td>3864</td>\n",
       "      <td>42.382363</td>\n",
       "    </tr>\n",
       "    <tr>\n",
       "      <th>288</th>\n",
       "      <td>Ringsted</td>\n",
       "      <td>25-39</td>\n",
       "      <td>6291</td>\n",
       "      <td>Primary education</td>\n",
       "      <td>1134</td>\n",
       "      <td>18.025751</td>\n",
       "    </tr>\n",
       "    <tr>\n",
       "      <th>289</th>\n",
       "      <td>Ringsted</td>\n",
       "      <td>25-39</td>\n",
       "      <td>6291</td>\n",
       "      <td>VET</td>\n",
       "      <td>2141</td>\n",
       "      <td>34.032745</td>\n",
       "    </tr>\n",
       "    <tr>\n",
       "      <th>290</th>\n",
       "      <td>Ringsted</td>\n",
       "      <td>25-39</td>\n",
       "      <td>6291</td>\n",
       "      <td>Higher education</td>\n",
       "      <td>2611</td>\n",
       "      <td>41.503735</td>\n",
       "    </tr>\n",
       "    <tr>\n",
       "      <th>291</th>\n",
       "      <td>Christiansø</td>\n",
       "      <td>25-39</td>\n",
       "      <td>10</td>\n",
       "      <td>VET</td>\n",
       "      <td>3</td>\n",
       "      <td>30.000000</td>\n",
       "    </tr>\n",
       "    <tr>\n",
       "      <th>292</th>\n",
       "      <td>Christiansø</td>\n",
       "      <td>25-39</td>\n",
       "      <td>10</td>\n",
       "      <td>Higher education</td>\n",
       "      <td>10</td>\n",
       "      <td>100.000000</td>\n",
       "    </tr>\n",
       "    <tr>\n",
       "      <th>293</th>\n",
       "      <td>Assens</td>\n",
       "      <td>25-39</td>\n",
       "      <td>5948</td>\n",
       "      <td>Primary education</td>\n",
       "      <td>1229</td>\n",
       "      <td>20.662408</td>\n",
       "    </tr>\n",
       "    <tr>\n",
       "      <th>294</th>\n",
       "      <td>Assens</td>\n",
       "      <td>25-39</td>\n",
       "      <td>5948</td>\n",
       "      <td>VET</td>\n",
       "      <td>2262</td>\n",
       "      <td>38.029590</td>\n",
       "    </tr>\n",
       "    <tr>\n",
       "      <th>295</th>\n",
       "      <td>Assens</td>\n",
       "      <td>25-39</td>\n",
       "      <td>5948</td>\n",
       "      <td>Higher education</td>\n",
       "      <td>2091</td>\n",
       "      <td>35.154674</td>\n",
       "    </tr>\n",
       "  </tbody>\n",
       "</table>\n",
       "</div>"
      ],
      "text/plain": [
       "            KOMK ALDERSGRUPPE  tot_aldersgruppe         UDDANNELSE  \\\n",
       "286    Svendborg        25-39              9117                VET   \n",
       "287    Svendborg        25-39              9117   Higher education   \n",
       "288     Ringsted        25-39              6291  Primary education   \n",
       "289     Ringsted        25-39              6291                VET   \n",
       "290     Ringsted        25-39              6291   Higher education   \n",
       "291  Christiansø        25-39                10                VET   \n",
       "292  Christiansø        25-39                10   Higher education   \n",
       "293       Assens        25-39              5948  Primary education   \n",
       "294       Assens        25-39              5948                VET   \n",
       "295       Assens        25-39              5948   Higher education   \n",
       "\n",
       "     total_in_education  ratio_in_education  \n",
       "286                2654           29.110453  \n",
       "287                3864           42.382363  \n",
       "288                1134           18.025751  \n",
       "289                2141           34.032745  \n",
       "290                2611           41.503735  \n",
       "291                   3           30.000000  \n",
       "292                  10          100.000000  \n",
       "293                1229           20.662408  \n",
       "294                2262           38.029590  \n",
       "295                2091           35.154674  "
      ]
     },
     "execution_count": 13,
     "metadata": {},
     "output_type": "execute_result"
    }
   ],
   "source": [
    "#Merging\n",
    "dd = pd.merge(df1, df_hf2, how = 'inner', on = ['KOMK']);\n",
    "dd.head(5)\n",
    "dd\n",
    "dd[\"ratio_in_education\"]=dd[\"total_in_education\"]/dd[\"tot_aldersgruppe\"]*100\n",
    "dd.tail(10)"
   ]
  },
  {
   "cell_type": "code",
   "execution_count": 14,
   "metadata": {},
   "outputs": [
    {
     "ename": "ModuleNotFoundError",
     "evalue": "No module named 'geopandas'",
     "output_type": "error",
     "traceback": [
      "\u001b[0;31m---------------------------------------------------------------------------\u001b[0m",
      "\u001b[0;31mModuleNotFoundError\u001b[0m                       Traceback (most recent call last)",
      "\u001b[1;32m/Users/apple/projects-2023-iim-1/dataproject/dataproject.ipynb Cell 24\u001b[0m in \u001b[0;36m<cell line: 2>\u001b[0;34m()\u001b[0m\n\u001b[1;32m      <a href='vscode-notebook-cell:/Users/apple/projects-2023-iim-1/dataproject/dataproject.ipynb#X44sZmlsZQ%3D%3D?line=0'>1</a>\u001b[0m \u001b[39m##opdel i forskellige uddannelser, så vi får 3 datasæt med 99 kommuner i hver. Lav kort over hvert datasæt\u001b[39;00m\n\u001b[0;32m----> <a href='vscode-notebook-cell:/Users/apple/projects-2023-iim-1/dataproject/dataproject.ipynb#X44sZmlsZQ%3D%3D?line=1'>2</a>\u001b[0m \u001b[39mimport\u001b[39;00m \u001b[39mgeopandas\u001b[39;00m \u001b[39mas\u001b[39;00m \u001b[39mgpd\u001b[39;00m\n\u001b[1;32m      <a href='vscode-notebook-cell:/Users/apple/projects-2023-iim-1/dataproject/dataproject.ipynb#X44sZmlsZQ%3D%3D?line=2'>3</a>\u001b[0m \u001b[39mimport\u001b[39;00m \u001b[39mshapefile\u001b[39;00m \u001b[39mas\u001b[39;00m \u001b[39mshp\u001b[39;00m\n\u001b[1;32m      <a href='vscode-notebook-cell:/Users/apple/projects-2023-iim-1/dataproject/dataproject.ipynb#X44sZmlsZQ%3D%3D?line=3'>4</a>\u001b[0m \u001b[39mimport\u001b[39;00m \u001b[39mmatplotlib\u001b[39;00m\u001b[39m.\u001b[39;00m\u001b[39mpyplot\u001b[39;00m \u001b[39mas\u001b[39;00m \u001b[39mplt\u001b[39;00m\n",
      "\u001b[0;31mModuleNotFoundError\u001b[0m: No module named 'geopandas'"
     ]
    }
   ],
   "source": [
    "##opdel i forskellige uddannelser, så vi får 3 datasæt med 99 kommuner i hver. Lav kort over hvert datasæt\n",
    "import geopandas as gpd\n",
    "import shapefile as shp\n",
    "import matplotlib.pyplot as plt\n",
    "import seaborn as sns"
   ]
  },
  {
   "cell_type": "code",
   "execution_count": 15,
   "metadata": {},
   "outputs": [
    {
     "ename": "NameError",
     "evalue": "name 'st' is not defined",
     "output_type": "error",
     "traceback": [
      "\u001b[0;31m---------------------------------------------------------------------------\u001b[0m",
      "\u001b[0;31mNameError\u001b[0m                                 Traceback (most recent call last)",
      "\u001b[1;32m/Users/apple/projects-2023-iim-1/dataproject/dataproject.ipynb Cell 25\u001b[0m in \u001b[0;36m<cell line: 3>\u001b[0;34m()\u001b[0m\n\u001b[1;32m      <a href='vscode-notebook-cell:/Users/apple/projects-2023-iim-1/dataproject/dataproject.ipynb#X45sZmlsZQ%3D%3D?line=0'>1</a>\u001b[0m \u001b[39m#shape_path = \"https://github.com/NumEconCopenhagen/projects-2023-iim/blob/main/dataproject/dk_10km.shp\", accept_multiple_files=True\u001b[39;00m\n\u001b[1;32m      <a href='vscode-notebook-cell:/Users/apple/projects-2023-iim-1/dataproject/dataproject.ipynb#X45sZmlsZQ%3D%3D?line=1'>2</a>\u001b[0m \u001b[39m#municipalities = gpd.read_file(shape_path)\u001b[39;00m\n\u001b[0;32m----> <a href='vscode-notebook-cell:/Users/apple/projects-2023-iim-1/dataproject/dataproject.ipynb#X45sZmlsZQ%3D%3D?line=2'>3</a>\u001b[0m st\u001b[39m.\u001b[39msession_state\u001b[39m.\u001b[39mdata_01 \u001b[39m=\u001b[39m st\u001b[39m.\u001b[39mfile_uploader(\u001b[39m'\u001b[39m\u001b[39mhttps://github.com/NumEconCopenhagen/projects-2023-iim/blob/main/dataproject/Denmark_shapefile.zip\u001b[39m\u001b[39m'\u001b[39m, accept_multiple_files\u001b[39m=\u001b[39m\u001b[39mTrue\u001b[39;00m, key\u001b[39m=\u001b[39m\u001b[39m'\u001b[39m\u001b[39m0\u001b[39m\u001b[39m'\u001b[39m)\n",
      "\u001b[0;31mNameError\u001b[0m: name 'st' is not defined"
     ]
    }
   ],
   "source": [
    "#shape_path = \"https://github.com/NumEconCopenhagen/projects-2023-iim/blob/main/dataproject/dk_10km.shp\", accept_multiple_files=True\n",
    "#municipalities = gpd.read_file(shape_path)\n",
    "st.session_state.data_01 = st.file_uploader('https://github.com/NumEconCopenhagen/projects-2023-iim/blob/main/dataproject/Denmark_shapefile.zip', accept_multiple_files=True, key='0')\n",
    "#shape_path"
   ]
  },
  {
   "cell_type": "code",
   "execution_count": 16,
   "metadata": {},
   "outputs": [
    {
     "data": {
      "text/plain": [
       "pandas.core.frame.DataFrame"
      ]
     },
     "execution_count": 16,
     "metadata": {},
     "output_type": "execute_result"
    }
   ],
   "source": [
    "map_df = dd\n",
    "map_df.head()\n",
    "type(map_df)"
   ]
  },
  {
   "cell_type": "markdown",
   "metadata": {},
   "source": [
    "Here we are dropping elements from both data set X and data set Y. A left join would keep all observations in data X intact and subset only from Y. \n",
    "\n",
    "Make sure that your resulting data sets have the correct number of rows and columns. That is, be clear about which observations are thrown away. \n",
    "\n",
    "**Note:** Don't make Venn diagrams in your own data project. It is just for exposition. "
   ]
  },
  {
   "cell_type": "markdown",
   "metadata": {},
   "source": [
    "# Analysis"
   ]
  },
  {
   "cell_type": "markdown",
   "metadata": {},
   "source": [
    "To get a quick overview of the data, we show some **summary statistics** on a meaningful aggregation. "
   ]
  },
  {
   "cell_type": "markdown",
   "metadata": {},
   "source": [
    "MAKE FURTHER ANALYSIS. EXPLAIN THE CODE BRIEFLY AND SUMMARIZE THE RESULTS."
   ]
  },
  {
   "cell_type": "markdown",
   "metadata": {},
   "source": [
    "# Conclusion"
   ]
  },
  {
   "cell_type": "markdown",
   "metadata": {},
   "source": [
    "ADD CONCISE CONLUSION."
   ]
  }
 ],
 "metadata": {
  "kernelspec": {
   "display_name": "base",
   "language": "python",
   "name": "python3"
  },
  "language_info": {
   "codemirror_mode": {
    "name": "ipython",
    "version": 3
   },
   "file_extension": ".py",
   "mimetype": "text/x-python",
   "name": "python",
   "nbconvert_exporter": "python",
   "pygments_lexer": "ipython3",
   "version": "3.9.13"
  },
  "toc-autonumbering": true,
  "vscode": {
   "interpreter": {
    "hash": "cf1ee66cb0a5dbbe9b15b35d8b5ef163dfe6de55254de5ac3d70cf481ad0a057"
   }
  }
 },
 "nbformat": 4,
 "nbformat_minor": 4
}
